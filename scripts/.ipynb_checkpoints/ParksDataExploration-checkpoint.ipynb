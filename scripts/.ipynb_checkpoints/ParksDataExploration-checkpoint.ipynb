{
 "cells": [
  {
   "cell_type": "markdown",
   "metadata": {},
   "source": [
    "# Data Exploration - Parks"
   ]
  },
  {
   "cell_type": "markdown",
   "metadata": {},
   "source": [
    "### TO DO\n",
    "\n",
    "- Park Sizes\n",
    "- Park Entrances"
   ]
  },
  {
   "cell_type": "code",
   "execution_count": 1,
   "metadata": {
    "collapsed": true
   },
   "outputs": [],
   "source": [
    "import pandas as pd\n",
    "import numpy as np\n",
    "import geopandas as gp\n",
    "import matplotlib.pyplot as plt\n",
    "import area\n",
    "\n",
    "%matplotlib inline\n",
    "plt.style.use('fivethirtyeight')"
   ]
  },
  {
   "cell_type": "code",
   "execution_count": 2,
   "metadata": {
    "collapsed": true
   },
   "outputs": [],
   "source": [
    "#Reading census tracts\n",
    "\n",
    "ct = gp.GeoDataFrame.from_file('../data/nyct2010_15d/nyct2010.shp')\n",
    "parks = gp.GeoDataFrame.from_file('../data/Parks Properties.geojson')"
   ]
  },
  {
   "cell_type": "code",
   "execution_count": 3,
   "metadata": {
    "collapsed": false
   },
   "outputs": [
    {
     "data": {
      "text/html": [
       "<div>\n",
       "<table border=\"1\" class=\"dataframe\">\n",
       "  <thead>\n",
       "    <tr style=\"text-align: right;\">\n",
       "      <th></th>\n",
       "      <th>borough</th>\n",
       "      <th>geometry</th>\n",
       "      <th>gispropnum</th>\n",
       "      <th>location</th>\n",
       "      <th>nys_assemb</th>\n",
       "      <th>nys_senate</th>\n",
       "      <th>shape_star</th>\n",
       "      <th>shape_stle</th>\n",
       "      <th>signname</th>\n",
       "      <th>typecatego</th>\n",
       "      <th>us_congres</th>\n",
       "      <th>waterfront</th>\n",
       "    </tr>\n",
       "  </thead>\n",
       "  <tbody>\n",
       "    <tr>\n",
       "      <th>0</th>\n",
       "      <td>Q</td>\n",
       "      <td>(POLYGON ((-73.94806058617914 40.7558921243117...</td>\n",
       "      <td>Q104</td>\n",
       "      <td>Queensboro Bridge, 41 Rd., 40 Ave. bet. The Ea...</td>\n",
       "      <td>37</td>\n",
       "      <td>12</td>\n",
       "      <td>903579.125015</td>\n",
       "      <td>7376.27166037</td>\n",
       "      <td>Queensbridge Park</td>\n",
       "      <td>Community Park</td>\n",
       "      <td>12</td>\n",
       "      <td>Yes</td>\n",
       "    </tr>\n",
       "    <tr>\n",
       "      <th>1</th>\n",
       "      <td>X</td>\n",
       "      <td>(POLYGON ((-73.78243845176834 40.8440889832097...</td>\n",
       "      <td>X253</td>\n",
       "      <td>City Island Ave bet. Centre St. and Winter St.</td>\n",
       "      <td>82</td>\n",
       "      <td>34</td>\n",
       "      <td>263831.264191</td>\n",
       "      <td>2635.6101749</td>\n",
       "      <td>Ambrosini Field</td>\n",
       "      <td>Recreation Field/Courts</td>\n",
       "      <td>14</td>\n",
       "      <td>Yes</td>\n",
       "    </tr>\n",
       "    <tr>\n",
       "      <th>2</th>\n",
       "      <td>Q</td>\n",
       "      <td>(POLYGON ((-73.83638471337609 40.5780595390408...</td>\n",
       "      <td>Q494</td>\n",
       "      <td>Beach 116 St.,  Ocean Promenade</td>\n",
       "      <td>23</td>\n",
       "      <td>15</td>\n",
       "      <td>6547.11642456</td>\n",
       "      <td>403.979313682</td>\n",
       "      <td>Flight 587 Memorial Park</td>\n",
       "      <td>Triangle/Plaza</td>\n",
       "      <td>5</td>\n",
       "      <td>Yes</td>\n",
       "    </tr>\n",
       "    <tr>\n",
       "      <th>3</th>\n",
       "      <td>X</td>\n",
       "      <td>(POLYGON ((-73.87623969625956 40.8419878695552...</td>\n",
       "      <td>X245</td>\n",
       "      <td>E 180 St bet. the Bronx River and Devoe Av</td>\n",
       "      <td>87</td>\n",
       "      <td>33</td>\n",
       "      <td>20232.5918732</td>\n",
       "      <td>582.832404647</td>\n",
       "      <td>River Garden</td>\n",
       "      <td>Garden</td>\n",
       "      <td>15</td>\n",
       "      <td>Yes</td>\n",
       "    </tr>\n",
       "    <tr>\n",
       "      <th>4</th>\n",
       "      <td>Q</td>\n",
       "      <td>(POLYGON ((-73.93623823248323 40.7692821829763...</td>\n",
       "      <td>Q465</td>\n",
       "      <td>Vernon Blvd. bet. Broadway and 30 Dr.</td>\n",
       "      <td>37</td>\n",
       "      <td>12</td>\n",
       "      <td>199700.239243</td>\n",
       "      <td>3014.55804623</td>\n",
       "      <td>Socrates Sculpture Park</td>\n",
       "      <td>Neighborhood Park</td>\n",
       "      <td>12</td>\n",
       "      <td>Yes</td>\n",
       "    </tr>\n",
       "  </tbody>\n",
       "</table>\n",
       "</div>"
      ],
      "text/plain": [
       "  borough                                           geometry gispropnum  \\\n",
       "0       Q  (POLYGON ((-73.94806058617914 40.7558921243117...       Q104   \n",
       "1       X  (POLYGON ((-73.78243845176834 40.8440889832097...       X253   \n",
       "2       Q  (POLYGON ((-73.83638471337609 40.5780595390408...       Q494   \n",
       "3       X  (POLYGON ((-73.87623969625956 40.8419878695552...       X245   \n",
       "4       Q  (POLYGON ((-73.93623823248323 40.7692821829763...       Q465   \n",
       "\n",
       "                                            location nys_assemb nys_senate  \\\n",
       "0  Queensboro Bridge, 41 Rd., 40 Ave. bet. The Ea...         37         12   \n",
       "1     City Island Ave bet. Centre St. and Winter St.         82         34   \n",
       "2                    Beach 116 St.,  Ocean Promenade         23         15   \n",
       "3         E 180 St bet. the Bronx River and Devoe Av         87         33   \n",
       "4              Vernon Blvd. bet. Broadway and 30 Dr.         37         12   \n",
       "\n",
       "      shape_star     shape_stle                  signname  \\\n",
       "0  903579.125015  7376.27166037         Queensbridge Park   \n",
       "1  263831.264191   2635.6101749           Ambrosini Field   \n",
       "2  6547.11642456  403.979313682  Flight 587 Memorial Park   \n",
       "3  20232.5918732  582.832404647              River Garden   \n",
       "4  199700.239243  3014.55804623   Socrates Sculpture Park   \n",
       "\n",
       "                typecatego us_congres waterfront  \n",
       "0           Community Park         12        Yes  \n",
       "1  Recreation Field/Courts         14        Yes  \n",
       "2           Triangle/Plaza          5        Yes  \n",
       "3                   Garden         15        Yes  \n",
       "4        Neighborhood Park         12        Yes  "
      ]
     },
     "execution_count": 3,
     "metadata": {},
     "output_type": "execute_result"
    }
   ],
   "source": [
    "parks.head()"
   ]
  },
  {
   "cell_type": "code",
   "execution_count": 4,
   "metadata": {
    "collapsed": false
   },
   "outputs": [
    {
     "data": {
      "text/plain": [
       "(2001, 12)"
      ]
     },
     "execution_count": 4,
     "metadata": {},
     "output_type": "execute_result"
    }
   ],
   "source": [
    "parks.shape"
   ]
  },
  {
   "cell_type": "code",
   "execution_count": 11,
   "metadata": {
    "collapsed": false
   },
   "outputs": [
    {
     "data": {
      "text/plain": [
       "shapely.geometry.multipolygon.MultiPolygon"
      ]
     },
     "execution_count": 11,
     "metadata": {},
     "output_type": "execute_result"
    }
   ],
   "source": [
    "# Calcutating area of polygons\n",
    "parks.geometry.loc[0]"
   ]
  },
  {
   "cell_type": "code",
   "execution_count": null,
   "metadata": {
    "collapsed": true
   },
   "outputs": [],
   "source": []
  },
  {
   "cell_type": "code",
   "execution_count": null,
   "metadata": {
    "collapsed": true
   },
   "outputs": [],
   "source": []
  },
  {
   "cell_type": "code",
   "execution_count": null,
   "metadata": {
    "collapsed": true
   },
   "outputs": [],
   "source": []
  },
  {
   "cell_type": "code",
   "execution_count": null,
   "metadata": {
    "collapsed": true
   },
   "outputs": [],
   "source": []
  }
 ],
 "metadata": {
  "kernelspec": {
   "display_name": "Python 2",
   "language": "python",
   "name": "python2"
  },
  "language_info": {
   "codemirror_mode": {
    "name": "ipython",
    "version": 2
   },
   "file_extension": ".py",
   "mimetype": "text/x-python",
   "name": "python",
   "nbconvert_exporter": "python",
   "pygments_lexer": "ipython2",
   "version": "2.7.10"
  }
 },
 "nbformat": 4,
 "nbformat_minor": 0
}
